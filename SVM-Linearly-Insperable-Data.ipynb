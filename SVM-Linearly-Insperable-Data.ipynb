{
 "cells": [
  {
   "cell_type": "code",
   "execution_count": 425,
   "metadata": {},
   "outputs": [],
   "source": [
    "#import statements\n",
    "import numpy as np\n",
    "from numpy import random\n",
    "import math\n",
    "import matplotlib.pyplot as plt\n",
    "from cvxopt import matrix\n",
    "from cvxopt import solvers\n",
    "from numpy.linalg import norm"
   ]
  },
  {
   "cell_type": "code",
   "execution_count": 426,
   "metadata": {},
   "outputs": [],
   "source": [
    "x = random.uniform(0,1, (100,2))"
   ]
  },
  {
   "cell_type": "code",
   "execution_count": 427,
   "metadata": {},
   "outputs": [
    {
     "data": {
      "text/plain": [
       "array([0.88746261, 0.32569181])"
      ]
     },
     "execution_count": 427,
     "metadata": {},
     "output_type": "execute_result"
    }
   ],
   "source": [
    "#sample x input\n",
    "x[0]"
   ]
  },
  {
   "cell_type": "code",
   "execution_count": 428,
   "metadata": {},
   "outputs": [],
   "source": [
    "#desired outputs\n",
    "\n",
    "d = np.empty([100,1])\n",
    "positive = []\n",
    "negative = []\n",
    "\n",
    "for i in range(100):\n",
    "    if( x[i,1] < (0.2*math.sin(10*x[i,0])+0.3) or (math.pow(x[i,1]-0.8,2)+math.pow(x[i,0]-0.5,2))<(0.15*0.15)):\n",
    "        d[i] = 1\n",
    "        positive.append(x[i])\n",
    "    else:\n",
    "        d[i] = -1\n",
    "        negative.append(x[i])\n"
   ]
  },
  {
   "cell_type": "code",
   "execution_count": 429,
   "metadata": {},
   "outputs": [
    {
     "data": {
      "text/plain": [
       "51"
      ]
     },
     "execution_count": 429,
     "metadata": {},
     "output_type": "execute_result"
    }
   ],
   "source": [
    "positive = np.asarray(positive)\n",
    "negative = np.asarray(negative)\n",
    "len(negative[:,0])"
   ]
  },
  {
   "cell_type": "code",
   "execution_count": 430,
   "metadata": {},
   "outputs": [
    {
     "data": {
      "image/png": "[encoded data removed]",
      "text/plain": [
       "<Figure size 432x288 with 1 Axes>"
      ]
     },
     "metadata": {
      "needs_background": "light"
     },
     "output_type": "display_data"
    }
   ],
   "source": [
    "plt.scatter(positive[:,0], positive[:,1], label= \"cross\", color= \"red\", marker= \".\", s= 40)\n",
    "plt.scatter(negative[:,0], negative[:,1], label= \"dot\", color= \"black\",  \n",
    "            marker= \".\", s= 10)\n",
    "plt.show()"
   ]
  },
  {
   "cell_type": "markdown",
   "metadata": {},
   "source": [
    "# Using other kernel functions\n"
   ]
  },
  {
   "cell_type": "code",
   "execution_count": 645,
   "metadata": {},
   "outputs": [],
   "source": [
    "#kernel function\n",
    "\n",
    "def kernel(i, j):\n",
    "    sigma = 0.5\n",
    "    #print(i,j)\n",
    "    return math.exp(- (math.pow(norm(i - j), 2)) / (2 * sigma*sigma) )"
   ]
  },
  {
   "cell_type": "code",
   "execution_count": 646,
   "metadata": {},
   "outputs": [],
   "source": [
    "#formulating quadratic program\n",
    "P = np.zeros([100,100])\n",
    "for i in range(0,100):\n",
    "    for j in range(0,100):\n",
    "        #using rbf kernel\n",
    "        #P[i][j] = d[i]*d[j]*math.exp(-((x1_term+x2_term)/2))\n",
    "        P[i][j] = d[i]*d[j]*kernel(x[i,:], x[j,:])\n"
   ]
  },
  {
   "cell_type": "code",
   "execution_count": 647,
   "metadata": {},
   "outputs": [
    {
     "name": "stdout",
     "output_type": "stream",
     "text": [
      "[[ 1.         -0.40738457  0.20651175 ... -0.57264418 -0.57276199\n",
      "  -0.20878892]\n",
      " [-0.40738457  1.         -0.04801133 ...  0.95608762  0.8805847\n",
      "   0.23652687]\n",
      " [ 0.20651175 -0.04801133  1.         ... -0.06581385 -0.14642094\n",
      "  -0.49334278]\n",
      " ...\n",
      " [-0.57264418  0.95608762 -0.06581385 ...  1.          0.90271989\n",
      "   0.23333919]\n",
      " [-0.57276199  0.8805847  -0.14642094 ...  0.90271989  1.\n",
      "   0.45556922]\n",
      " [-0.20878892  0.23652687 -0.49334278 ...  0.23333919  0.45556922\n",
      "   1.        ]]\n"
     ]
    }
   ],
   "source": [
    "print(P)"
   ]
  },
  {
   "cell_type": "code",
   "execution_count": 648,
   "metadata": {},
   "outputs": [
    {
     "name": "stdout",
     "output_type": "stream",
     "text": [
      "     pcost       dcost       gap    pres   dres\n",
      " 0: -6.4096e+01 -1.7477e+02  3e+02  1e+01  3e+00\n",
      " 1: -2.0042e+02 -3.2294e+02  2e+02  6e+00  1e+00\n",
      " 2: -5.3434e+02 -6.9665e+02  2e+02  5e+00  1e+00\n",
      " 3: -1.4151e+03 -1.6867e+03  3e+02  5e+00  1e+00\n",
      " 4: -2.5482e+03 -2.9732e+03  5e+02  5e+00  1e+00\n",
      " 5: -7.3609e+03 -8.4314e+03  1e+03  4e+00  1e+00\n",
      " 6: -1.2940e+04 -1.5085e+04  2e+03  4e+00  9e-01\n",
      " 7: -2.2957e+04 -2.8096e+04  5e+03  3e+00  7e-01\n",
      " 8: -3.2210e+04 -4.0260e+04  8e+03  1e+00  3e-01\n",
      " 9: -3.4882e+04 -3.5976e+04  1e+03  1e-01  3e-02\n",
      "10: -3.5006e+04 -3.5030e+04  2e+01  3e-03  6e-04\n",
      "11: -3.5010e+04 -3.5011e+04  9e-01  4e-05  8e-06\n",
      "12: -3.5010e+04 -3.5010e+04  7e-02  4e-07  8e-08\n",
      "13: -3.5010e+04 -3.5010e+04  1e-03  4e-09  8e-10\n",
      "Optimal solution found.\n"
     ]
    }
   ],
   "source": [
    "#formulating in cvxopt's api definition\n",
    "P = matrix(P)\n",
    "q = matrix(-np.ones([100,1]),(100,1),'d')\n",
    "G = matrix(-np.identity(100))\n",
    "h = matrix(np.zeros([100,1]),(100,1),'d')\n",
    "d2 = np.reshape(d,(1,100))\n",
    "A = matrix(d2)\n",
    "b = matrix(0,(1,1),'d')\n",
    "sol = solvers.qp(P,q,G,h,A,b)"
   ]
  },
  {
   "cell_type": "code",
   "execution_count": 649,
   "metadata": {},
   "outputs": [
    {
     "data": {
      "text/plain": [
       "(100, 1)"
      ]
     },
     "execution_count": 649,
     "metadata": {},
     "output_type": "execute_result"
    }
   ],
   "source": [
    "sol['x'].size"
   ]
  },
  {
   "cell_type": "code",
   "execution_count": 650,
   "metadata": {},
   "outputs": [
    {
     "data": {
      "image/png": "[encoded data removed]",
      "text/plain": [
       "<Figure size 432x288 with 1 Axes>"
      ]
     },
     "metadata": {
      "needs_background": "light"
     },
     "output_type": "display_data"
    }
   ],
   "source": [
    "#plotting alpha values\n",
    "t = []\n",
    "for i in range(len(alpha_array)):\n",
    "    t.append(i)\n",
    "\n",
    "axes = plt.gca()\n",
    "#axes.set_xlim([xmin,xmax])\n",
    "#axes.set_ylim([-80000,80000])    \n",
    "plt.plot(t, alpha_array, marker = '.')\n",
    "\n",
    "plt.show()"
   ]
  },
  {
   "cell_type": "code",
   "execution_count": 651,
   "metadata": {},
   "outputs": [],
   "source": [
    "#plotting support vectors\n",
    "\n",
    "alpha_array = sol['x']\n",
    "\n",
    "\n",
    "sv_alphas = []\n",
    "sv_x = []\n",
    "sv_y = []\n",
    "\n",
    "\n",
    "for i in range(100):\n",
    "    if(alpha_array[i] > math.pow(10,1)):\n",
    "        sv_alphas.append(alpha_array[i])\n",
    "        sv_x.append(x[i,:])\n",
    "        sv_y.append(d[i])\n"
   ]
  },
  {
   "cell_type": "code",
   "execution_count": 652,
   "metadata": {},
   "outputs": [
    {
     "data": {
      "text/plain": [
       "[17587.868723806212,\n",
       " 15721.101068406999,\n",
       " 231.58961161776378,\n",
       " 8260.716258071365,\n",
       " 1439.586643396921,\n",
       " 4912.423590962866,\n",
       " 2770.744213113275,\n",
       " 1191.5555541417875,\n",
       " 9472.662084619551,\n",
       " 278.555521545036,\n",
       " 5344.1037727151015,\n",
       " 1779.669616491888,\n",
       " 1030.0635453583031]"
      ]
     },
     "execution_count": 652,
     "metadata": {},
     "output_type": "execute_result"
    }
   ],
   "source": [
    "#alpha values for support vectors\n",
    "sv_alphas"
   ]
  },
  {
   "cell_type": "code",
   "execution_count": 653,
   "metadata": {},
   "outputs": [
    {
     "data": {
      "image/png": "[encoded data removed]",
      "text/plain": [
       "<Figure size 432x288 with 1 Axes>"
      ]
     },
     "metadata": {
      "needs_background": "light"
     },
     "output_type": "display_data"
    },
    {
     "name": "stdout",
     "output_type": "stream",
     "text": [
      "[[0.3076589  0.279254  ]\n",
      " [0.31180301 0.32098486]\n",
      " [0.6813185  0.44234848]\n",
      " [0.46508573 0.66772336]\n",
      " [0.449335   0.93000809]\n",
      " [0.72072213 0.40654149]\n",
      " [0.40106362 0.91791808]\n",
      " [0.95563333 0.32761035]\n",
      " [0.57745911 0.61072956]\n",
      " [0.04463928 0.54004148]\n",
      " [0.43106225 0.14065139]\n",
      " [0.52262256 0.06617931]\n",
      " [0.64772703 0.7767405 ]]\n"
     ]
    }
   ],
   "source": [
    "#support vectors\n",
    "sv_x = np.asarray(sv_x)\n",
    "plt.scatter(sv_x[:,0], sv_x[:,1], marker = '^')\n",
    "plt.show()\n",
    "print(sv_x)\n"
   ]
  },
  {
   "cell_type": "code",
   "execution_count": null,
   "metadata": {},
   "outputs": [],
   "source": []
  },
  {
   "cell_type": "code",
   "execution_count": 654,
   "metadata": {},
   "outputs": [
    {
     "name": "stdout",
     "output_type": "stream",
     "text": [
      "[17526.11597373]\n",
      "[1805.01490532]\n",
      "[1633.88460729]\n",
      "[7830.88235841]\n",
      "[8491.02941429]\n",
      "[11955.9782372]\n",
      "[10618.85226664]\n",
      "[10098.81931606]\n",
      "[3144.52282687]\n",
      "[2925.12363241]\n",
      "[-1942.02369795]\n",
      "[-512.00683656]\n",
      "[30.5318978]\n",
      "final theta [-31.5318978]\n"
     ]
    }
   ],
   "source": [
    "#theta calculation\n",
    "\n",
    "theta = 0\n",
    "for i in range(len(sv_x)):\n",
    "    theta = theta + sv_alphas[i]*sv_y[i]*kernel(sv_x[i], sv_x[1])\n",
    "    print(theta)\n",
    "theta = sv_y[1]-theta\n",
    "print('final theta', theta)"
   ]
  },
  {
   "cell_type": "code",
   "execution_count": 655,
   "metadata": {},
   "outputs": [
    {
     "data": {
      "text/plain": [
       "array([-31.5318978])"
      ]
     },
     "execution_count": 655,
     "metadata": {},
     "output_type": "execute_result"
    }
   ],
   "source": [
    "theta"
   ]
  },
  {
   "cell_type": "code",
   "execution_count": 656,
   "metadata": {},
   "outputs": [
    {
     "data": {
      "text/plain": [
       "13"
      ]
     },
     "execution_count": 656,
     "metadata": {},
     "output_type": "execute_result"
    }
   ],
   "source": [
    "len(sv_x)"
   ]
  },
  {
   "cell_type": "code",
   "execution_count": 657,
   "metadata": {},
   "outputs": [],
   "source": [
    "#calculating function values on support vectors\n",
    "w = np.zeros([len(sv_x),1]) \n",
    "gx = [] \n",
    "for i in range(len(sv_x)):\n",
    "    for j in range(len(sv_x)):\n",
    "        w[i] = w[i]+(sv_alphas[j]*sv_y[j]*kernel(sv_x[j], sv_x[i]))\n",
    "    gx.append(w[i]+theta)\n",
    "gx = np.asarray(gx)"
   ]
  },
  {
   "cell_type": "code",
   "execution_count": 658,
   "metadata": {},
   "outputs": [
    {
     "data": {
      "text/plain": [
       "array([[ 0.99936985],\n",
       "       [-1.        ],\n",
       "       [-0.99567645],\n",
       "       [ 1.00713099],\n",
       "       [ 1.00882926],\n",
       "       [ 1.00358433],\n",
       "       [-0.99189873],\n",
       "       [-0.99904804],\n",
       "       [-0.9927694 ],\n",
       "       [-1.00059527],\n",
       "       [-1.00178659],\n",
       "       [ 0.99755651],\n",
       "       [ 1.00978   ]])"
      ]
     },
     "execution_count": 658,
     "metadata": {},
     "output_type": "execute_result"
    }
   ],
   "source": [
    "gx"
   ]
  },
  {
   "cell_type": "code",
   "execution_count": 659,
   "metadata": {},
   "outputs": [
    {
     "name": "stdout",
     "output_type": "stream",
     "text": [
      "[[ 67.49303248  67.40017671  67.3034696  ... -58.78362205 -59.11165423\n",
      "  -59.43967267]\n",
      " [ 67.0994833   67.00679723  66.91027639 ... -58.44566043 -58.77401354\n",
      "  -59.1023756 ]\n",
      " [ 66.70255456  66.6100396   66.51370654 ... -58.10636208 -58.435023\n",
      "  -58.76371561]\n",
      " ...\n",
      " [ 12.26923438  12.27460538  12.27767948 ... -31.6320743  -31.55726298\n",
      "  -31.48237186]\n",
      " [ 12.02134818  12.02591226  12.02818279 ... -31.92326755 -31.84715501\n",
      "  -31.77095321]\n",
      " [ 11.76890105  11.77264972  11.77410833 ... -32.21442708 -32.13701384\n",
      "  -32.05950203]]\n"
     ]
    }
   ],
   "source": [
    "#\n",
    "\n",
    "\n",
    "gx2 = np.zeros([400,400])\n",
    "x1 = np.linspace(0,1,400)\n",
    "x2 = np.linspace(0,1,400)\n",
    "for i in range(len(x1)):\n",
    "    for j in range(len(x2)):\n",
    "        sum = 0\n",
    "        for k in range(100):\n",
    "            sum = sum + (alpha_array[k]*d[k]*kernel(x[k,:], np.asarray([x1[i],x2[j]])))\n",
    "        gx2[i][j] = sum + theta\n",
    "print(gx2)"
   ]
  },
  {
   "cell_type": "code",
   "execution_count": 660,
   "metadata": {},
   "outputs": [],
   "source": [
    "#plotting all points\n",
    "b_neg = []\n",
    "hyperplane = []\n",
    "b_pos = []\n",
    "for i in range(400):\n",
    "    for j in range(400):\n",
    "        if(gx2[i][j]>-1.1 and gx2[i][j]<-0.9):\n",
    "            #-1\n",
    "            b_neg.append(np.asarray([x1[i],x2[j]]))\n",
    "        if(gx2[i][j]>-0.01 and gx2[i][j]<0.01):\n",
    "            #0\n",
    "            hyperplane.append(np.asarray([x1[i],x2[j]]))\n",
    "        if(gx2[i][j]>0.9 and gx2[i][j]<1.1):\n",
    "            #1\n",
    "            b_pos.append(np.asarray([x1[i],x2[j]]))\n"
   ]
  },
  {
   "cell_type": "code",
   "execution_count": null,
   "metadata": {},
   "outputs": [],
   "source": []
  },
  {
   "cell_type": "code",
   "execution_count": 662,
   "metadata": {},
   "outputs": [
    {
     "data": {
      "image/png": "[encoded data removed]",
      "text/plain": [
       "<Figure size 432x288 with 1 Axes>"
      ]
     },
     "metadata": {
      "needs_background": "light"
     },
     "output_type": "display_data"
    }
   ],
   "source": [
    "#plot all points\n",
    "b_neg = np.asarray(b_neg)\n",
    "hyperplane = np.asarray(hyperplane)\n",
    "b_pos = np.asarray(b_pos)\n",
    "\n",
    "#plotting positive and negative classes\n",
    "positive_plot = plt.scatter(positive[:,0], positive[:,1], label= \"cross\", color= \"red\", marker= \"D\", s= 10)\n",
    "negative_plot = plt.scatter(negative[:,0], negative[:,1], label= \"dot\", color= \"blue\",  \n",
    "            marker= \"x\", s= 10)\n",
    "positive_plot.set_label('positive points')\n",
    "negative_plot.set_label('negative points')\n",
    "\n",
    "#support vectors\n",
    "sv_plot = plt.scatter(sv_x[:,0], sv_x[:,1], marker = '^', color = 'black', s=50)\n",
    "sv_plot.set_label('Support Vectors')\n",
    "\n",
    "H_minus = plt.scatter(b_neg[:,0], b_neg[:,1], label= \"hline\", color= \"blue\",  \n",
    "            marker= \"_\", s= 5)\n",
    "\n",
    "H_minus.set_label('H-')\n",
    "\n",
    "H = plt.scatter(hyperplane[:,0], hyperplane[:,1], label= \"hline\", color= \"green\",  \n",
    "            marker= \"_\", s= 5)\n",
    "H.set_label('Decision hyperplane')\n",
    "H_plus = plt.scatter(b_pos[:,0],b_pos[:,1], label= \"hline\", color= \"red\",  \n",
    "            marker= \"_\", s= 5)\n",
    "\n",
    "H_plus.set_label('H+')\n",
    "plt.xlabel('x1')\n",
    "plt.ylabel('x2')\n",
    "\n",
    "plt.title('SVM RBF Kernel with sigma = 0.5')\n",
    "plt.legend()\n",
    "plt.show()"
   ]
  },
  {
   "cell_type": "code",
   "execution_count": null,
   "metadata": {},
   "outputs": [],
   "source": []
  }
 ],
 "metadata": {
  "kernelspec": {
   "display_name": "Python 3",
   "language": "python",
   "name": "python3"
  },
  "language_info": {
   "codemirror_mode": {
    "name": "ipython",
    "version": 3
   },
   "file_extension": ".py",
   "mimetype": "text/x-python",
   "name": "python",
   "nbconvert_exporter": "python",
   "pygments_lexer": "ipython3",
   "version": "3.7.3"
  }
 },
 "nbformat": 4,
 "nbformat_minor": 2
}
